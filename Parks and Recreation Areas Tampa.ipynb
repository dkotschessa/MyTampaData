{
  "cells": [
    {
      "metadata": {
        "collapsed": true
      },
      "cell_type": "markdown",
      "source": "# Parks and recreation areas in Tampa\n\nI am always on the lookout for places to go with my toddler - but sometimes the needs are specific.  Is there a water play area? Can I take the dog?  Bathrooms?  \n\nGoogle maps can help me with some of this - but then I found this delightful data file at: http://city-tampa.opendata.arcgis.com/datasets/park-and-recreation-areas/data?\n\n\n"
    },
    {
      "metadata": {
        "trusted": true
      },
      "cell_type": "code",
      "source": "import pandas as pd\n!ls",
      "execution_count": 4,
      "outputs": [
        {
          "output_type": "stream",
          "text": "Park_and_Recreation_Areas.csv\t\tREADME.md\r\nParks and Recreation Areas Tampa.ipynb\r\n",
          "name": "stdout"
        }
      ]
    },
    {
      "metadata": {
        "trusted": true
      },
      "cell_type": "code",
      "source": "df = pd.read_csv('Park_and_Recreation_Areas.csv')\ndf.head()",
      "execution_count": 7,
      "outputs": [
        {
          "output_type": "execute_result",
          "execution_count": 7,
          "data": {
            "text/html": "<div>\n<style scoped>\n    .dataframe tbody tr th:only-of-type {\n        vertical-align: middle;\n    }\n\n    .dataframe tbody tr th {\n        vertical-align: top;\n    }\n\n    .dataframe thead th {\n        text-align: right;\n    }\n</style>\n<table border=\"1\" class=\"dataframe\">\n  <thead>\n    <tr style=\"text-align: right;\">\n      <th></th>\n      <th>X</th>\n      <th>Y</th>\n      <th>OBJECTID</th>\n      <th>FACILITYID</th>\n      <th>NAME</th>\n      <th>OWNER</th>\n      <th>OWNTYPE</th>\n      <th>SUBTYPEFIELD</th>\n      <th>FEATURECODE</th>\n      <th>FULLADDR</th>\n      <th>...</th>\n      <th>CEMETERY</th>\n      <th>MARINA</th>\n      <th>PARKALIAS</th>\n      <th>SHELTERMAP</th>\n      <th>GlobalID</th>\n      <th>created_user</th>\n      <th>created_date</th>\n      <th>last_edited_user</th>\n      <th>last_edited_date</th>\n      <th>USNG</th>\n    </tr>\n  </thead>\n  <tbody>\n    <tr>\n      <th>0</th>\n      <td>-82.456201</td>\n      <td>27.954346</td>\n      <td>39335</td>\n      <td>73.0</td>\n      <td>Kid Mason Community Center</td>\n      <td>Tampa</td>\n      <td>Municipal</td>\n      <td>820</td>\n      <td>Community / Recreation Center</td>\n      <td>1101 N Jefferson Street</td>\n      <td>...</td>\n      <td>No</td>\n      <td>No</td>\n      <td>NaN</td>\n      <td>NaN</td>\n      <td>{D542A87B-0B42-4EB7-A8BB-019B627174D0}</td>\n      <td>NaN</td>\n      <td>NaN</td>\n      <td>DPD3</td>\n      <td>2015-01-12T16:33:44.000Z</td>\n      <td>17R LL 567 929</td>\n    </tr>\n    <tr>\n      <th>1</th>\n      <td>-82.469224</td>\n      <td>27.967260</td>\n      <td>39379</td>\n      <td>104.0</td>\n      <td>Phillips Park</td>\n      <td>Tampa</td>\n      <td>Municipal</td>\n      <td>820</td>\n      <td>Park</td>\n      <td>751 W Columbus Dr</td>\n      <td>...</td>\n      <td>No</td>\n      <td>No</td>\n      <td>NaN</td>\n      <td>NaN</td>\n      <td>{B5A590FE-555F-43A4-BEC0-0281569D71ED}</td>\n      <td>NaN</td>\n      <td>NaN</td>\n      <td>DPD3</td>\n      <td>2015-01-12T16:33:44.000Z</td>\n      <td>17R LL 554 944</td>\n    </tr>\n    <tr>\n      <th>2</th>\n      <td>-82.368180</td>\n      <td>28.111569</td>\n      <td>39362</td>\n      <td>92.0</td>\n      <td>New Tampa Nature Park</td>\n      <td>Tampa</td>\n      <td>Municipal</td>\n      <td>820</td>\n      <td>Park</td>\n      <td>17001 Dona Michelle Drive</td>\n      <td>...</td>\n      <td>No</td>\n      <td>No</td>\n      <td>NaN</td>\n      <td>NaN</td>\n      <td>{62EE7313-4637-497D-BECF-031497FE6BFC}</td>\n      <td>NaN</td>\n      <td>NaN</td>\n      <td>dp43</td>\n      <td>2015-10-16T13:50:11.000Z</td>\n      <td>17R LM 656 103</td>\n    </tr>\n    <tr>\n      <th>3</th>\n      <td>-82.514051</td>\n      <td>27.919421</td>\n      <td>39478</td>\n      <td>207.0</td>\n      <td>Friendship Center</td>\n      <td>Tampa</td>\n      <td>Municipal</td>\n      <td>820</td>\n      <td>Community / Recreation Center</td>\n      <td>4124 W Bay to Bay Blvd</td>\n      <td>...</td>\n      <td>No</td>\n      <td>No</td>\n      <td>NaN</td>\n      <td>NaN</td>\n      <td>{C31F2D1A-BA99-4AFD-8611-03D8A53A9200}</td>\n      <td>rck8</td>\n      <td>2014-08-19T15:34:42.000Z</td>\n      <td>DPD3</td>\n      <td>2015-01-12T16:33:44.000Z</td>\n      <td>17R LL 510 891</td>\n    </tr>\n    <tr>\n      <th>4</th>\n      <td>-82.465070</td>\n      <td>27.978387</td>\n      <td>39364</td>\n      <td>16.0</td>\n      <td>Calvin Taylor Park</td>\n      <td>Tampa</td>\n      <td>Municipal</td>\n      <td>820</td>\n      <td>Park</td>\n      <td>611 W  Indiana Ave</td>\n      <td>...</td>\n      <td>No</td>\n      <td>No</td>\n      <td>NaN</td>\n      <td>NaN</td>\n      <td>{4D1CEFF0-F5DA-497B-96C0-0637065527B2}</td>\n      <td>NaN</td>\n      <td>NaN</td>\n      <td>DPD3</td>\n      <td>2015-01-12T16:33:44.000Z</td>\n      <td>17R LL 559 956</td>\n    </tr>\n  </tbody>\n</table>\n<p>5 rows × 66 columns</p>\n</div>",
            "text/plain": "           X          Y  OBJECTID  FACILITYID                        NAME  \\\n0 -82.456201  27.954346     39335        73.0  Kid Mason Community Center   \n1 -82.469224  27.967260     39379       104.0               Phillips Park   \n2 -82.368180  28.111569     39362        92.0       New Tampa Nature Park   \n3 -82.514051  27.919421     39478       207.0           Friendship Center   \n4 -82.465070  27.978387     39364        16.0          Calvin Taylor Park   \n\n   OWNER    OWNTYPE  SUBTYPEFIELD                    FEATURECODE  \\\n0  Tampa  Municipal           820  Community / Recreation Center   \n1  Tampa  Municipal           820                           Park   \n2  Tampa  Municipal           820                           Park   \n3  Tampa  Municipal           820  Community / Recreation Center   \n4  Tampa  Municipal           820                           Park   \n\n                    FULLADDR       ...       CEMETERY MARINA  PARKALIAS  \\\n0    1101 N Jefferson Street       ...             No     No        NaN   \n1          751 W Columbus Dr       ...             No     No        NaN   \n2  17001 Dona Michelle Drive       ...             No     No        NaN   \n3     4124 W Bay to Bay Blvd       ...             No     No        NaN   \n4         611 W  Indiana Ave       ...             No     No        NaN   \n\n  SHELTERMAP                                GlobalID created_user  \\\n0        NaN  {D542A87B-0B42-4EB7-A8BB-019B627174D0}          NaN   \n1        NaN  {B5A590FE-555F-43A4-BEC0-0281569D71ED}          NaN   \n2        NaN  {62EE7313-4637-497D-BECF-031497FE6BFC}          NaN   \n3        NaN  {C31F2D1A-BA99-4AFD-8611-03D8A53A9200}         rck8   \n4        NaN  {4D1CEFF0-F5DA-497B-96C0-0637065527B2}          NaN   \n\n               created_date last_edited_user          last_edited_date  \\\n0                       NaN             DPD3  2015-01-12T16:33:44.000Z   \n1                       NaN             DPD3  2015-01-12T16:33:44.000Z   \n2                       NaN             dp43  2015-10-16T13:50:11.000Z   \n3  2014-08-19T15:34:42.000Z             DPD3  2015-01-12T16:33:44.000Z   \n4                       NaN             DPD3  2015-01-12T16:33:44.000Z   \n\n             USNG  \n0  17R LL 567 929  \n1  17R LL 554 944  \n2  17R LM 656 103  \n3  17R LL 510 891  \n4  17R LL 559 956  \n\n[5 rows x 66 columns]"
          },
          "metadata": {}
        }
      ]
    }
  ],
  "metadata": {
    "kernelspec": {
      "name": "python36",
      "display_name": "Python 3.6",
      "language": "python"
    },
    "language_info": {
      "mimetype": "text/x-python",
      "nbconvert_exporter": "python",
      "name": "python",
      "pygments_lexer": "ipython3",
      "version": "3.6.6",
      "file_extension": ".py",
      "codemirror_mode": {
        "version": 3,
        "name": "ipython"
      }
    }
  },
  "nbformat": 4,
  "nbformat_minor": 2
}